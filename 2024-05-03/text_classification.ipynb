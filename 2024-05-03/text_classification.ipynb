{
 "cells": [
  {
   "cell_type": "markdown",
   "metadata": {},
   "source": [
    "## 1. Load the Data\n",
    "\n",
    "Korpora에서 제공하는 NSMCDataset의 테스트 데이터셋에서 20000개의 데이터만 사용하여 학습 진행"
   ]
  },
  {
   "cell_type": "code",
   "execution_count": 3,
   "metadata": {},
   "outputs": [
    {
     "name": "stdout",
     "output_type": "stream",
     "text": [
      "\n",
      "    Korpora 는 다른 분들이 연구 목적으로 공유해주신 말뭉치들을\n",
      "    손쉽게 다운로드, 사용할 수 있는 기능만을 제공합니다.\n",
      "\n",
      "    말뭉치들을 공유해 주신 분들에게 감사드리며, 각 말뭉치 별 설명과 라이센스를 공유 드립니다.\n",
      "    해당 말뭉치에 대해 자세히 알고 싶으신 분은 아래의 description 을 참고,\n",
      "    해당 말뭉치를 연구/상용의 목적으로 이용하실 때에는 아래의 라이센스를 참고해 주시기 바랍니다.\n",
      "\n",
      "    # Description\n",
      "    Author : e9t@github\n",
      "    Repository : https://github.com/e9t/nsmc\n",
      "    References : www.lucypark.kr/docs/2015-pyconkr/#39\n",
      "\n",
      "    Naver sentiment movie corpus v1.0\n",
      "    This is a movie review dataset in the Korean language.\n",
      "    Reviews were scraped from Naver Movies.\n",
      "\n",
      "    The dataset construction is based on the method noted in\n",
      "    [Large movie review dataset][^1] from Maas et al., 2011.\n",
      "\n",
      "    [^1]: http://ai.stanford.edu/~amaas/data/sentiment/\n",
      "\n",
      "    # License\n",
      "    CC0 1.0 Universal (CC0 1.0) Public Domain Dedication\n",
      "    Details in https://creativecommons.org/publicdomain/zero/1.0/\n",
      "\n",
      "[Korpora] Corpus `nsmc` is already installed at /home/ho/Korpora/nsmc/ratings_train.txt\n",
      "[Korpora] Corpus `nsmc` is already installed at /home/ho/Korpora/nsmc/ratings_test.txt\n",
      "|       | text                                                     |   label |\n",
      "|------:|:---------------------------------------------------------|--------:|\n",
      "| 26891 | 역시 코믹액션은 성룡, 홍금보, 원표 삼인방이 최고지!!     |       1 |\n",
      "| 25024 | 점수 후하게 줘야것네 별 반개~                            |       0 |\n",
      "| 11666 | 오랜만에 느낄수 있는 [감독] 구타욕구.                    |       0 |\n",
      "| 40303 | 본지는 좀 됬지만 극장서 돈주고 본게 아직까지 아까운 영화 |       0 |\n",
      "| 18010 | 징키스칸이란 소재를 가지고 이것밖에 못만드냐             |       0 |\n",
      "train: 12000, val: 4000\n",
      "test: 4000\n"
     ]
    }
   ],
   "source": [
    "import numpy as np\n",
    "import pandas as pd\n",
    "from Korpora import Korpora\n",
    "\n",
    "corpus = Korpora.load(\"nsmc\")\n",
    "df = pd.DataFrame(corpus.test).sample(20000, random_state=42)\n",
    "\n",
    "# train : val : test 를 6 : 2 : 2 로 분리\n",
    "train_df, val_df, test_df = np.split(\n",
    "    df.sample(frac=1, random_state=42), [int(0.6 * len(df)), int(0.8 * len(df))]\n",
    ")\n",
    "\n",
    "# 출력 확인\n",
    "print(train_df.head(5).to_markdown())\n",
    "print(f\"train: {len(train_df)}, val: {len(val_df)}\")\n",
    "print(f\"test: {len(test_df)}\")"
   ]
  },
  {
   "cell_type": "markdown",
   "metadata": {},
   "source": [
    "## 2. Dataset & DataLoader\n",
    "\n",
    "Load해온 NSMCDataset을 DataLoader를 통해 배치 단위로 불러올 수 있도록 하는 함수."
   ]
  },
  {
   "cell_type": "code",
   "execution_count": null,
   "metadata": {},
   "outputs": [],
   "source": [
    "import torch\n",
    "from torch.utils.data import TensorDataset, DataLoader\n",
    "\n",
    "def make_dataset(data, tokenizer, device):\n",
    "    tokenized = tokenizer(\n",
    "        text = data.text.tolist(),\n",
    "        padding=\"longest\", # 배치 내에서 가장 긴 sequence 길이로 통일\n",
    "        truncation=True, # 모델이 처리할 수 있는 최대 길이로 입력 조정 (BERT의 경우, 512)\n",
    "        return_tensors=\"pt\"\n",
    "    )\n",
    "\n",
    "    input_ids = tokenized[\"input_ids\"].to(device)\n",
    "    att_masks = tokenized[\"attention_mask\"].to(device)\n",
    "    labels = torch.tensor(data.label.values, dtype=torch.long).to(device)\n",
    "    \n",
    "    return TensorDataset(input_ids, att_masks, labels)\n",
    "\n",
    "def get_dataloader(dataset, sampler, batch_size):\n",
    "    data_sampler = sampler(dataset)\n",
    "    data_loader = DataLoader(dataset, sampler=data_sampler, batch_size=batch_size)\n",
    "\n",
    "    return data_loader"
   ]
  },
  {
   "cell_type": "markdown",
   "metadata": {},
   "source": [
    "## 3. Check the Netwrok Architecture\n",
    "\n",
    "이후 실험할 BERT, GPT2에 대한 Network 구조를 확인하기 위한 함수"
   ]
  },
  {
   "cell_type": "code",
   "execution_count": null,
   "metadata": {},
   "outputs": [],
   "source": [
    "def check_network(net):\n",
    "    name, _ = next(net.named_children())\n",
    "    for main_name, main_module in net.named_children():\n",
    "        print(main_name)\n",
    "\n",
    "        for sub_name, sub_module in main_module.named_children():\n",
    "            print(\"- \", sub_name)\n",
    "\n",
    "            for ssub_name, ssub_module in sub_module.named_children():\n",
    "                print(\"|    - \", ssub_name)\n",
    "\n",
    "                for sssub_name, _ in ssub_module.named_children():\n",
    "                    print(\"|    |   - \", sssub_name)\n",
    "    \n",
    "    return name"
   ]
  },
  {
   "cell_type": "markdown",
   "metadata": {},
   "source": [
    "## 4. Train & Test Function\n",
    "\n",
    "모델 훈련 및 테스트 코드"
   ]
  },
  {
   "cell_type": "code",
   "execution_count": null,
   "metadata": {},
   "outputs": [],
   "source": [
    "import numpy as np\n",
    "import torch.nn as nn\n",
    "from tqdm.notebook import tqdm\n",
    "\n",
    "def calc_accuracy(preds, labels):\n",
    "    pred_flatten = np.argmax(preds, axis=1).flatten()\n",
    "    labels_flatten = labels.flatten()\n",
    "\n",
    "    return np.sum(pred_flatten == labels_flatten) / len(labels_flatten)\n",
    "\n",
    "def train(net, optimizer, data_loader):\n",
    "    net.train()\n",
    "    train_loss = 0.0\n",
    "\n",
    "    for input_ids, att_mask, labels in tqdm(data_loader):\n",
    "        optimizer.zero_grad()\n",
    "\n",
    "        outputs = net(\n",
    "            input_ids=input_ids,\n",
    "            attention_mask=att_mask,\n",
    "            labels=labels\n",
    "        )\n",
    "\n",
    "        loss = outputs.loss\n",
    "        train_loss += loss.item()\n",
    "        \n",
    "        loss.backward()\n",
    "        optimizer.step()\n",
    "    \n",
    "    train_loss /= len(data_loader)\n",
    "    return train_loss\n",
    "\n",
    "def eval(net, data_loader):\n",
    "    net.eval()\n",
    "    criterion = nn.CrossEntropyLoss()\n",
    "    val_loss, val_acc = 0.0, 0.0\n",
    "\n",
    "    with torch.no_grad():\n",
    "        for input_ids, att_mask, labels in tqdm(data_loader):\n",
    "            outputs = net(\n",
    "                input_ids=input_ids,\n",
    "                attention_mask=att_mask,\n",
    "                labels=labels\n",
    "            )\n",
    "            \n",
    "            logits = outputs.logits\n",
    "            loss = criterion(logits, labels)\n",
    "            \n",
    "            logits = logits.detach().cpu().numpy()\n",
    "            label_ids = labels.to(\"cpu\").numpy()\n",
    "            acc = calc_accuracy(logits, label_ids)\n",
    "\n",
    "            val_loss += loss\n",
    "            val_acc += acc\n",
    "\n",
    "    val_loss /= len(data_loader)\n",
    "    val_acc /= len(data_loader)\n",
    "\n",
    "    return val_loss, val_acc"
   ]
  },
  {
   "cell_type": "code",
   "execution_count": null,
   "metadata": {},
   "outputs": [],
   "source": [
    "def test(net, main_name, test_loader):    \n",
    "    net.load_state_dict(torch.load(f\"./pth/{main_name}.pth\"))\n",
    "\n",
    "    test_loss, test_acc = eval(net, test_loader)\n",
    "    print(f\"Test Loss: {test_loss:.4f}, Test Accuracy: {test_acc:.4f}\")\n"
   ]
  },
  {
   "cell_type": "markdown",
   "metadata": {},
   "source": [
    "## 5. Bert\n",
    "\n",
    "Bert를 통해 Self-Supervised Learning으로 Transfer Learning 된 모델과 그렇지 않은 모델 성능 비교"
   ]
  },
  {
   "cell_type": "markdown",
   "metadata": {},
   "source": [
    "### 5-1. Hyper-Parameter 설정"
   ]
  },
  {
   "cell_type": "code",
   "execution_count": null,
   "metadata": {},
   "outputs": [],
   "source": [
    "EPOCHS = 5\n",
    "BATCH_SIZE = 32\n",
    "LR = 1e-5\n",
    "EPS = 1e-8\n",
    "\n",
    "device = \"cuda\" if torch.cuda.is_available() else \"cpu\"\n",
    "pretrained = \"bert-base-multilingual-cased\""
   ]
  },
  {
   "cell_type": "markdown",
   "metadata": {},
   "source": [
    "### 5-2. DataLoader 불러오기\n",
    "\n",
    "이때, tokenizer는 pretrained된 값을 사용 (오로지, 모델의 pretrained 여부에 따른 성능 차이 확인을 위해서)"
   ]
  },
  {
   "cell_type": "code",
   "execution_count": null,
   "metadata": {},
   "outputs": [],
   "source": [
    "from transformers import AutoTokenizer\n",
    "from torch.utils.data import RandomSampler, SequentialSampler\n",
    "\n",
    "def prepare_data(pretrained):\n",
    "    tokenizer = AutoTokenizer.from_pretrained(\n",
    "        pretrained_model_name_or_path=pretrained,\n",
    "        do_lower_case=False\n",
    "    )\n",
    "\n",
    "    if pretrained == \"gpt2\":\n",
    "        tokenizer.pad_token = tokenizer.eos_token\n",
    "\n",
    "    train_dataset = make_dataset(train_df, tokenizer, device)\n",
    "    train_loader = get_dataloader(train_dataset, RandomSampler, BATCH_SIZE)\n",
    "\n",
    "    val_dataset = make_dataset(val_df, tokenizer, device)\n",
    "    val_loader = get_dataloader(val_dataset, SequentialSampler, BATCH_SIZE)\n",
    "\n",
    "    test_dataset = make_dataset(test_df, tokenizer, device)\n",
    "    test_loader = get_dataloader(test_dataset, SequentialSampler, BATCH_SIZE)\n",
    "\n",
    "    return train_loader, val_loader, test_loader\n",
    "\n",
    "train_loader, val_loader, test_loader = prepare_data(pretrained)\n",
    "for input_ids, attn_masks, labels in train_loader:\n",
    "    print(f\"{input_ids.shape}, {attn_masks.shape}, {labels.shape}\")\n",
    "    break"
   ]
  },
  {
   "cell_type": "markdown",
   "metadata": {},
   "source": [
    "### 5-3. Supervised Learning"
   ]
  },
  {
   "cell_type": "code",
   "execution_count": null,
   "metadata": {},
   "outputs": [],
   "source": [
    "# 모델 정의\n",
    "from transformers import BertConfig, BertForSequenceClassification\n",
    "\n",
    "config = BertConfig(\n",
    "    vocab_size= 119547,\n",
    "    num_labels=2\n",
    ")\n",
    "\n",
    "net = BertForSequenceClassification(config=config).to(device)\n",
    "main_name = check_network(net)"
   ]
  },
  {
   "cell_type": "code",
   "execution_count": null,
   "metadata": {},
   "outputs": [],
   "source": [
    "# optimizer 정의\n",
    "from torch.optim import AdamW\n",
    "optimizer = AdamW(net.parameters(), lr=LR, eps=EPS)"
   ]
  },
  {
   "cell_type": "code",
   "execution_count": null,
   "metadata": {},
   "outputs": [],
   "source": [
    "# 훈련 코드\n",
    "\n",
    "best_loss = 1e9\n",
    "for epoch in range(EPOCHS):\n",
    "    train_loss = train(net, optimizer, train_loader)\n",
    "    val_loss, val_acc = eval(net, val_loader)\n",
    "\n",
    "    print(f\"Epoch [{epoch+1}/{EPOCHS}]\")\n",
    "    print(f\"  Train Loss: {train_loss:.4f}, Val Loss: {val_loss:.4f}, Val Accuracy: {val_acc:.4f}\")\n",
    "    \n",
    "    if val_loss < best_loss:\n",
    "        best_loss = val_loss\n",
    "        torch.save(net.state_dict(), f\"./pth/{main_name}.pth\")"
   ]
  },
  {
   "cell_type": "code",
   "execution_count": null,
   "metadata": {},
   "outputs": [],
   "source": [
    "# 테스트\n",
    "net = BertForSequenceClassification(config=config).to(device)\n",
    "test(net, main_name, test_loader)"
   ]
  },
  {
   "cell_type": "markdown",
   "metadata": {},
   "source": [
    "### 5-4. Self-Supervised Learning"
   ]
  },
  {
   "cell_type": "code",
   "execution_count": 4,
   "metadata": {},
   "outputs": [],
   "source": [
    "df = train_df + val_df"
   ]
  },
  {
   "cell_type": "code",
   "execution_count": 5,
   "metadata": {},
   "outputs": [],
   "source": [
    "# NSP를 위해 문장 Pair 생성\n",
    "import random\n",
    "\n",
    "def create_sent_pairs(df):\n",
    "    sent_a = []\n",
    "    sent_b = []\n",
    "    labels = []\n",
    "\n",
    "    for i in range(len(df) - 1):\n",
    "        sent_a.append(df.iloc[i]['text'])\n",
    "        sent_b.append(df.iloc[i + 1]['text'])\n",
    "        labels.append(1)  # 연속 문장\n",
    "        sent_a.append(df.iloc[i]['text'])\n",
    "        sent_b.append(df.iloc[random.randint(0, len(df)-1)]['text'])\n",
    "        labels.append(0)  # 무작위 문장\n",
    "\n",
    "    return sent_a, sent_b, labels\n",
    "\n",
    "sent_a, sent_b, labels = create_sent_pairs(df)"
   ]
  },
  {
   "cell_type": "code",
   "execution_count": null,
   "metadata": {},
   "outputs": [],
   "source": [
    "# MLP와 NSP를 적용하기 위한 데이터셋\n",
    "from torch.utils.data import Dataset, DataLoader\n",
    "\n",
    "class NSPandMLMDataset(Dataset):\n",
    "    def __init__(self, tokenizer, text_a, text_b, labels):\n",
    "        self.encodings = tokenizer(text_a, text_b, truncation=True, padding=True, max_length=512)\n",
    "        self.labels = labels\n",
    "\n",
    "    def __getitem__(self, idx):\n",
    "        item = {key: torch.tensor(val[idx]) for key, val in self.encodings.items()}\n",
    "        item['next_sentence_label'] = torch.LongTensor([self.labels[idx]])\n",
    "        return item\n",
    "\n",
    "    def __len__(self):\n",
    "        return len(self.labels)"
   ]
  },
  {
   "cell_type": "code",
   "execution_count": null,
   "metadata": {},
   "outputs": [],
   "source": [
    "# 모델 정의\n",
    "from transformers import AutoModelForSequenceClassification\n",
    "\n",
    "net = AutoModelForSequenceClassification.from_pretrained(\n",
    "        pretrained, num_labels=2\n",
    "    ).to(device)\n",
    "main_name = check_network(net)\n",
    "main_name += \"_pretrained\""
   ]
  },
  {
   "cell_type": "code",
   "execution_count": null,
   "metadata": {},
   "outputs": [],
   "source": [
    "# optimizer 정의\n",
    "from torch.optim import AdamW\n",
    "optimizer = AdamW(net.parameters(), lr=LR, eps=EPS)"
   ]
  },
  {
   "cell_type": "code",
   "execution_count": null,
   "metadata": {},
   "outputs": [],
   "source": [
    "# 훈련\n",
    "main(net, main_name, optimizer, train_loader, val_loader)"
   ]
  },
  {
   "cell_type": "code",
   "execution_count": null,
   "metadata": {},
   "outputs": [],
   "source": [
    "# 테스트\n",
    "net = AutoModelForSequenceClassification.from_pretrained(\n",
    "        pretrained, num_labels=2\n",
    "    ).to(device)\n",
    "test(net, main_name, test_loader)"
   ]
  }
 ],
 "metadata": {
  "kernelspec": {
   "display_name": "Python 3",
   "language": "python",
   "name": "python3"
  },
  "language_info": {
   "codemirror_mode": {
    "name": "ipython",
    "version": 3
   },
   "file_extension": ".py",
   "mimetype": "text/x-python",
   "name": "python",
   "nbconvert_exporter": "python",
   "pygments_lexer": "ipython3",
   "version": "3.8.10"
  }
 },
 "nbformat": 4,
 "nbformat_minor": 2
}
