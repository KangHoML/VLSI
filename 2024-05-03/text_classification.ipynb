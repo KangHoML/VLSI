{
 "cells": [
  {
   "cell_type": "markdown",
   "metadata": {},
   "source": [
    "## Load the Data"
   ]
  },
  {
   "cell_type": "code",
   "execution_count": 12,
   "metadata": {},
   "outputs": [
    {
     "name": "stdout",
     "output_type": "stream",
     "text": [
      "\n",
      "    Korpora 는 다른 분들이 연구 목적으로 공유해주신 말뭉치들을\n",
      "    손쉽게 다운로드, 사용할 수 있는 기능만을 제공합니다.\n",
      "\n",
      "    말뭉치들을 공유해 주신 분들에게 감사드리며, 각 말뭉치 별 설명과 라이센스를 공유 드립니다.\n",
      "    해당 말뭉치에 대해 자세히 알고 싶으신 분은 아래의 description 을 참고,\n",
      "    해당 말뭉치를 연구/상용의 목적으로 이용하실 때에는 아래의 라이센스를 참고해 주시기 바랍니다.\n",
      "\n",
      "    # Description\n",
      "    Author : e9t@github\n",
      "    Repository : https://github.com/e9t/nsmc\n",
      "    References : www.lucypark.kr/docs/2015-pyconkr/#39\n",
      "\n",
      "    Naver sentiment movie corpus v1.0\n",
      "    This is a movie review dataset in the Korean language.\n",
      "    Reviews were scraped from Naver Movies.\n",
      "\n",
      "    The dataset construction is based on the method noted in\n",
      "    [Large movie review dataset][^1] from Maas et al., 2011.\n",
      "\n",
      "    [^1]: http://ai.stanford.edu/~amaas/data/sentiment/\n",
      "\n",
      "    # License\n",
      "    CC0 1.0 Universal (CC0 1.0) Public Domain Dedication\n",
      "    Details in https://creativecommons.org/publicdomain/zero/1.0/\n",
      "\n",
      "[Korpora] Corpus `nsmc` is already installed at /home/ho/Korpora/nsmc/ratings_train.txt\n",
      "[Korpora] Corpus `nsmc` is already installed at /home/ho/Korpora/nsmc/ratings_test.txt\n",
      "|       | text                                                     |   label |\n",
      "|------:|:---------------------------------------------------------|--------:|\n",
      "| 26891 | 역시 코믹액션은 성룡, 홍금보, 원표 삼인방이 최고지!!     |       1 |\n",
      "| 25024 | 점수 후하게 줘야것네 별 반개~                            |       0 |\n",
      "| 11666 | 오랜만에 느낄수 있는 [감독] 구타욕구.                    |       0 |\n",
      "| 40303 | 본지는 좀 됬지만 극장서 돈주고 본게 아직까지 아까운 영화 |       0 |\n",
      "| 18010 | 징키스칸이란 소재를 가지고 이것밖에 못만드냐             |       0 |\n",
      "train: 12000, val: 4000\n",
      "test: 4000\n"
     ]
    }
   ],
   "source": [
    "import numpy as np\n",
    "import pandas as pd\n",
    "from Korpora import Korpora\n",
    "\n",
    "# 테스트 데이터셋 20000개의 학습 데이터에 대해서 학습 진행\n",
    "corpus = Korpora.load(\"nsmc\")\n",
    "df = pd.DataFrame(corpus.test).sample(20000, random_state=42)\n",
    "\n",
    "# train : val : test 를 6 : 2 : 2 로 분리\n",
    "train_df, val_df, test_df = np.split(\n",
    "    df.sample(frac=1, random_state=42), [int(0.6 * len(df)), int(0.8 * len(df))]\n",
    ")\n",
    "\n",
    "# 출력 확인\n",
    "print(train_df.head(5).to_markdown())\n",
    "print(f\"train: {len(train_df)}, val: {len(val_df)}\")\n",
    "print(f\"test: {len(test_df)}\")"
   ]
  },
  {
   "cell_type": "markdown",
   "metadata": {},
   "source": [
    "## Data Pipeline"
   ]
  },
  {
   "cell_type": "code",
   "execution_count": 14,
   "metadata": {},
   "outputs": [],
   "source": [
    "import torch\n",
    "from torch.utils.data import TensorDataset, DataLoader\n",
    "\n",
    "def make_dataset(data, tokenizer, device):\n",
    "    tokenized = tokenizer(\n",
    "        text = data.text.to_list(),\n",
    "        padding=\"longest\", # 배치 내에서 가장 긴 sequence 길이로 통일\n",
    "        truncation=True, # 모델이 처리할 수 있는 최대 길이로 입력 조정 (BERT의 경우, 512)\n",
    "        return_tensors=\"pt\"\n",
    "    )\n",
    "\n",
    "    input_ids = tokenized[\"input_ids\"].to(device)\n",
    "    att_masks = tokenized[\"attention_mask\"].to(device)\n",
    "    labels = torch.tensor(data.label.values, dtype=torch.long).to(device)\n",
    "    \n",
    "    return TensorDataset(input_ids, att_masks, labels)\n",
    "\n",
    "def get_dataloader(dataset, sampler, batch_size):\n",
    "    data_sampler = sampler(dataset)\n",
    "    data_loader = DataLoader(dataset, sampler=data_sampler, batch_size=batch_size)\n",
    "\n",
    "    return data_loader"
   ]
  },
  {
   "cell_type": "markdown",
   "metadata": {},
   "source": [
    "## Network Architecture"
   ]
  },
  {
   "cell_type": "code",
   "execution_count": 35,
   "metadata": {},
   "outputs": [],
   "source": [
    "def check_network(net):\n",
    "    for main_name, main_module in net.named_children():\n",
    "        print(main_name)\n",
    "\n",
    "        for sub_name, sub_module in main_module.named_children():\n",
    "            print(\"- \", sub_name)\n",
    "\n",
    "            for ssub_name, ssub_module in sub_module.named_children():\n",
    "                print(\"|    - \", ssub_name)\n",
    "\n",
    "                for sssub_name, _ in ssub_module.named_children():\n",
    "                    print(\"|    |   - \", sssub_name)\n",
    "    \n",
    "    return main_name"
   ]
  },
  {
   "cell_type": "markdown",
   "metadata": {},
   "source": [
    "## Train Pipeline"
   ]
  },
  {
   "cell_type": "code",
   "execution_count": 15,
   "metadata": {},
   "outputs": [],
   "source": [
    "import numpy as np\n",
    "import torch.nn as nn\n",
    "\n",
    "def calc_accuracy(preds, labels):\n",
    "    pred_flatten = np.argmax(preds, axis=1).flatten()\n",
    "    labels_flatten = labels.flatten()\n",
    "\n",
    "    return np.sum(pred_flatten == labels_flatten) / len(labels_flatten)\n",
    "\n",
    "def train(net, optimizer, data_loader):\n",
    "    net.train()\n",
    "    train_loss = 0.0\n",
    "\n",
    "    for input_ids, att_mask, labels in data_loader:\n",
    "        optimizer.zero_grad()\n",
    "\n",
    "        outputs = net(\n",
    "            input_ids=input_ids,\n",
    "            attention_mask=att_mask,\n",
    "            labels=labels\n",
    "        )\n",
    "\n",
    "        loss = outputs.loss\n",
    "        train_loss += loss.item()\n",
    "        \n",
    "        loss.backward()\n",
    "        optimizer.step()\n",
    "    \n",
    "    train_loss /= len(data_loader)\n",
    "    return train_loss\n",
    "\n",
    "def eval(net, data_loader):\n",
    "    net.eval()\n",
    "    criterion = nn.CrossEntropyLoss()\n",
    "    val_loss, val_acc = 0.0, 0.0\n",
    "\n",
    "    with torch.no_grad():\n",
    "        for input_ids, att_mask, labels in data_loader:\n",
    "            outputs = net(\n",
    "                input_ids=input_ids,\n",
    "                attention_mask=att_mask,\n",
    "                labels=labels\n",
    "            )\n",
    "            \n",
    "            logits = outputs.logits\n",
    "            loss = criterion(logits, labels)\n",
    "            \n",
    "            logits.detach().cpu().numpy()\n",
    "            labels = labels.to(\"cpu\").numpy()\n",
    "            acc = calc_accuracy(logits, labels)\n",
    "\n",
    "            val_loss += loss\n",
    "            val_acc += acc\n",
    "\n",
    "    val_loss /= len(data_loader)\n",
    "    val_acc /= len(data_loader)\n",
    "\n",
    "    return val_loss, val_acc"
   ]
  },
  {
   "cell_type": "markdown",
   "metadata": {},
   "source": [
    "## Hyper-parameter"
   ]
  },
  {
   "cell_type": "code",
   "execution_count": 30,
   "metadata": {},
   "outputs": [],
   "source": [
    "EPOCHS = 5\n",
    "BATCH_SIZE = 32\n",
    "LR = 1e-5\n",
    "EPS = 1e-8\n",
    "\n",
    "device = \"cuda\" if torch.cuda.is_available() else \"cpu\""
   ]
  },
  {
   "cell_type": "markdown",
   "metadata": {},
   "source": [
    "## Self-Supervised Learning"
   ]
  },
  {
   "cell_type": "code",
   "execution_count": 27,
   "metadata": {},
   "outputs": [],
   "source": [
    "from transformers import AutoTokenizer\n",
    "from torch.utils.data import RandomSampler, SequentialSampler\n",
    "\n",
    "def prepare_data(pretrained):\n",
    "    tokenizer = AutoTokenizer.from_pretrained(\n",
    "        pretrained_model_name_or_path=pretrained,\n",
    "        do_lower_case=False\n",
    "    )\n",
    "\n",
    "    train_dataset = make_dataset(train_df, tokenizer, device)\n",
    "    train_loader = get_dataloader(train_dataset, RandomSampler, BATCH_SIZE)\n",
    "\n",
    "    val_dataset = make_dataset(val_df, tokenizer, device)\n",
    "    val_loader = get_dataloader(val_dataset, SequentialSampler, BATCH_SIZE)\n",
    "\n",
    "    test_dataset = make_dataset(test_df, tokenizer, device)\n",
    "    test_loader = get_dataloader(test_dataset, SequentialSampler, BATCH_SIZE)\n",
    "\n",
    "    return train_loader, val_loader, test_loader"
   ]
  },
  {
   "cell_type": "code",
   "execution_count": 28,
   "metadata": {},
   "outputs": [],
   "source": [
    "from transformers import AutoModelForSequenceClassification\n",
    "\n",
    "def get_network(pretrained):\n",
    "    net = AutoModelForSequenceClassification.from_pretrained(\n",
    "        pretrained, num_labels=2\n",
    "    ).to(device)\n",
    "\n",
    "    return net"
   ]
  },
  {
   "cell_type": "code",
   "execution_count": 36,
   "metadata": {},
   "outputs": [],
   "source": [
    "from torch.optim import AdamW\n",
    "\n",
    "def main(pretrained, optimizer):\n",
    "    train_loader, val_loader, test_loader = prepare_data(pretrained)\n",
    "    net = get_network(pretrained)\n",
    "    optimizer = AdamW(net.parameters(), lr=LR, eps=EPS)\n",
    "\n",
    "    # 아키텍처 구조 확인\n",
    "    main_name = check_network(net)\n",
    "\n",
    "    # 훈련\n",
    "    best_loss = 1e9\n",
    "    for epoch in range(EPOCHS):\n",
    "        train_loss = train(net, optimizer, train_loader)\n",
    "        val_loss, val_acc = eval(net, val_loader)\n",
    "\n",
    "        print(f\"Epoch [{epoch+1}/{EPOCHS}]\")\n",
    "        print(f\"  Train Loss: {train_loss:.4f}, Val Loss: {val_loss:.4f}, Val Accuracy: {val_accuracy:.2f}%\")\n",
    "        \n",
    "        if val_loss < best_loss:\n",
    "            best_loss = val_loss\n",
    "            torch.save(net.state_dict(), \"./pth/{main_name}.pth\")"
   ]
  },
  {
   "cell_type": "code",
   "execution_count": 37,
   "metadata": {},
   "outputs": [
    {
     "name": "stderr",
     "output_type": "stream",
     "text": [
      "Some weights of BertForSequenceClassification were not initialized from the model checkpoint at bert-base-multilingual-cased and are newly initialized: ['classifier.bias', 'classifier.weight']\n",
      "You should probably TRAIN this model on a down-stream task to be able to use it for predictions and inference.\n"
     ]
    },
    {
     "name": "stdout",
     "output_type": "stream",
     "text": [
      "bert\n",
      "-  embeddings\n",
      "|    -  word_embeddings\n",
      "|    -  position_embeddings\n",
      "|    -  token_type_embeddings\n",
      "|    -  LayerNorm\n",
      "|    -  dropout\n",
      "-  encoder\n",
      "|    -  layer\n",
      "|    |   -  0\n",
      "|    |   -  1\n",
      "|    |   -  2\n",
      "|    |   -  3\n",
      "|    |   -  4\n",
      "|    |   -  5\n",
      "|    |   -  6\n",
      "|    |   -  7\n",
      "|    |   -  8\n",
      "|    |   -  9\n",
      "|    |   -  10\n",
      "|    |   -  11\n",
      "-  pooler\n",
      "|    -  dense\n",
      "|    -  activation\n",
      "dropout\n",
      "classifier\n",
      "bert\n",
      "-  embeddings\n",
      "|    -  word_embeddings\n",
      "|    -  position_embeddings\n",
      "|    -  token_type_embeddings\n",
      "|    -  LayerNorm\n",
      "|    -  dropout\n",
      "-  encoder\n",
      "|    -  layer\n",
      "|    |   -  0\n",
      "|    |   -  1\n",
      "|    |   -  2\n",
      "|    |   -  3\n",
      "|    |   -  4\n",
      "|    |   -  5\n",
      "|    |   -  6\n",
      "|    |   -  7\n",
      "|    |   -  8\n",
      "|    |   -  9\n",
      "|    |   -  10\n",
      "|    |   -  11\n",
      "-  pooler\n",
      "|    -  dense\n",
      "|    -  activation\n",
      "dropout\n",
      "classifier\n"
     ]
    },
    {
     "ename": "KeyboardInterrupt",
     "evalue": "",
     "output_type": "error",
     "traceback": [
      "\u001b[0;31m---------------------------------------------------------------------------\u001b[0m",
      "\u001b[0;31mKeyboardInterrupt\u001b[0m                         Traceback (most recent call last)",
      "Cell \u001b[0;32mIn[37], line 2\u001b[0m\n\u001b[1;32m      1\u001b[0m \u001b[38;5;66;03m# bert\u001b[39;00m\n\u001b[0;32m----> 2\u001b[0m \u001b[43mmain\u001b[49m\u001b[43m(\u001b[49m\u001b[43mpretrained\u001b[49m\u001b[38;5;241;43m=\u001b[39;49m\u001b[38;5;124;43m\"\u001b[39;49m\u001b[38;5;124;43mbert-base-multilingual-cased\u001b[39;49m\u001b[38;5;124;43m\"\u001b[39;49m\u001b[43m,\u001b[49m\u001b[43m \u001b[49m\u001b[43moptimizer\u001b[49m\u001b[38;5;241;43m=\u001b[39;49m\u001b[43moptimizer\u001b[49m\u001b[43m)\u001b[49m\n",
      "Cell \u001b[0;32mIn[36], line 14\u001b[0m, in \u001b[0;36mmain\u001b[0;34m(pretrained, optimizer)\u001b[0m\n\u001b[1;32m     12\u001b[0m best_loss \u001b[38;5;241m=\u001b[39m \u001b[38;5;241m1e9\u001b[39m\n\u001b[1;32m     13\u001b[0m \u001b[38;5;28;01mfor\u001b[39;00m epoch \u001b[38;5;129;01min\u001b[39;00m \u001b[38;5;28mrange\u001b[39m(EPOCHS):\n\u001b[0;32m---> 14\u001b[0m     train_loss \u001b[38;5;241m=\u001b[39m \u001b[43mtrain\u001b[49m\u001b[43m(\u001b[49m\u001b[43mnet\u001b[49m\u001b[43m,\u001b[49m\u001b[43m \u001b[49m\u001b[43moptimizer\u001b[49m\u001b[43m,\u001b[49m\u001b[43m \u001b[49m\u001b[43mtrain_loader\u001b[49m\u001b[43m)\u001b[49m\n\u001b[1;32m     15\u001b[0m     val_loss, val_acc \u001b[38;5;241m=\u001b[39m \u001b[38;5;28meval\u001b[39m(net, val_loader)\n\u001b[1;32m     17\u001b[0m     \u001b[38;5;28mprint\u001b[39m(\u001b[38;5;124mf\u001b[39m\u001b[38;5;124m\"\u001b[39m\u001b[38;5;124mEpoch [\u001b[39m\u001b[38;5;132;01m{\u001b[39;00mepoch\u001b[38;5;241m+\u001b[39m\u001b[38;5;241m1\u001b[39m\u001b[38;5;132;01m}\u001b[39;00m\u001b[38;5;124m/\u001b[39m\u001b[38;5;132;01m{\u001b[39;00mEPOCHS\u001b[38;5;132;01m}\u001b[39;00m\u001b[38;5;124m]\u001b[39m\u001b[38;5;124m\"\u001b[39m)\n",
      "Cell \u001b[0;32mIn[15], line 24\u001b[0m, in \u001b[0;36mtrain\u001b[0;34m(net, optimizer, data_loader)\u001b[0m\n\u001b[1;32m     17\u001b[0m outputs \u001b[38;5;241m=\u001b[39m net(\n\u001b[1;32m     18\u001b[0m     input_ids\u001b[38;5;241m=\u001b[39minput_ids,\n\u001b[1;32m     19\u001b[0m     attention_mask\u001b[38;5;241m=\u001b[39matt_mask,\n\u001b[1;32m     20\u001b[0m     labels\u001b[38;5;241m=\u001b[39mlabels\n\u001b[1;32m     21\u001b[0m )\n\u001b[1;32m     23\u001b[0m loss \u001b[38;5;241m=\u001b[39m outputs\u001b[38;5;241m.\u001b[39mloss\n\u001b[0;32m---> 24\u001b[0m train_loss \u001b[38;5;241m+\u001b[39m\u001b[38;5;241m=\u001b[39m \u001b[43mloss\u001b[49m\u001b[38;5;241;43m.\u001b[39;49m\u001b[43mitem\u001b[49m\u001b[43m(\u001b[49m\u001b[43m)\u001b[49m\n\u001b[1;32m     26\u001b[0m loss\u001b[38;5;241m.\u001b[39mbackward()\n\u001b[1;32m     27\u001b[0m optimizer\u001b[38;5;241m.\u001b[39mstep()\n",
      "\u001b[0;31mKeyboardInterrupt\u001b[0m: "
     ]
    }
   ],
   "source": [
    "# bert\n",
    "main(pretrained=\"bert-base-multilingual-cased\", optimizer=optimizer)"
   ]
  },
  {
   "cell_type": "code",
   "execution_count": null,
   "metadata": {},
   "outputs": [],
   "source": [
    "# gpt\n",
    "main(pretrained=\"gpt2\", optimizer=optimizer)"
   ]
  }
 ],
 "metadata": {
  "kernelspec": {
   "display_name": "Python 3",
   "language": "python",
   "name": "python3"
  },
  "language_info": {
   "codemirror_mode": {
    "name": "ipython",
    "version": 3
   },
   "file_extension": ".py",
   "mimetype": "text/x-python",
   "name": "python",
   "nbconvert_exporter": "python",
   "pygments_lexer": "ipython3",
   "version": "3.8.10"
  }
 },
 "nbformat": 4,
 "nbformat_minor": 2
}
