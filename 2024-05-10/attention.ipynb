{
 "cells": [
  {
   "cell_type": "markdown",
   "metadata": {},
   "source": [
    "# Efficient Attention Mechanism\n",
    "\n",
    "- Input\n",
    "    - query, key, value : (batch_size, num_heads, seq_len, embed_dim)\n",
    "\n",
    "- Output\n",
    "    - attention value : (batch_size, seq_len, embed_dim)"
   ]
  },
  {
   "cell_type": "markdown",
   "metadata": {},
   "source": [
    "## Input"
   ]
  },
  {
   "cell_type": "code",
   "execution_count": 5,
   "metadata": {},
   "outputs": [],
   "source": [
    "import torch\n",
    "\n",
    "query = torch.rand(32, 8, 128, 64, dtype=torch.float16, device=\"cuda\")\n",
    "key = torch.rand(32, 8, 128, 64, dtype=torch.float16, device=\"cuda\")\n",
    "value = torch.rand(32, 8, 128, 64, dtype=torch.float16, device=\"cuda\")"
   ]
  },
  {
   "cell_type": "markdown",
   "metadata": {},
   "source": [
    "## Standard Attention"
   ]
  },
  {
   "cell_type": "code",
   "execution_count": 10,
   "metadata": {},
   "outputs": [],
   "source": [
    "import torch\n",
    "import math\n",
    "\n",
    "def standard_attention(query, key, value, mask=None, dropout=0.0):\n",
    "    trg_len, src_len = query.size(-2), key.size(-2)\n",
    "    scale_factor = 1 / math.sqrt(key.size(-1)) \n",
    "    attn_bias = torch.zeros(trg_len, src_len, dtype=query.dtype)\n",
    "    \n",
    "    # masking\n",
    "    if mask is not None:\n",
    "        if mask.dtype == torch.bool:\n",
    "            attn_bias.masked_fill_(mask.logical_not(), float(\"-inf\"))\n",
    "        else:\n",
    "            attn_bias += mask\n",
    "\n",
    "    # operation\n",
    "    attn_score = query @ key.transpose(-2, -1) * scale_factor # QK^T / scale\n",
    "    attn_score += attn_bias # masking value\n",
    "    attn_prob = torch.softmax(attn_score, dim=-1)\n",
    "    attn_prob = torch.dropout(attn_prob, dropout, train=True)\n",
    "\n",
    "    return attn_prob @ value"
   ]
  },
  {
   "cell_type": "code",
   "execution_count": 11,
   "metadata": {},
   "outputs": [
    {
     "ename": "RuntimeError",
     "evalue": "Expected all tensors to be on the same device, but found at least two devices, cuda:0 and cpu!",
     "output_type": "error",
     "traceback": [
      "\u001b[0;31m---------------------------------------------------------------------------\u001b[0m",
      "\u001b[0;31mRuntimeError\u001b[0m                              Traceback (most recent call last)",
      "Cell \u001b[0;32mIn[11], line 1\u001b[0m\n\u001b[0;32m----> 1\u001b[0m \u001b[43mstandard_attention\u001b[49m\u001b[43m(\u001b[49m\u001b[43mquery\u001b[49m\u001b[43m,\u001b[49m\u001b[43m \u001b[49m\u001b[43mkey\u001b[49m\u001b[43m,\u001b[49m\u001b[43m \u001b[49m\u001b[43mvalue\u001b[49m\u001b[43m)\u001b[49m\n",
      "Cell \u001b[0;32mIn[10], line 18\u001b[0m, in \u001b[0;36mstandard_attention\u001b[0;34m(query, key, value, mask, dropout)\u001b[0m\n\u001b[1;32m     16\u001b[0m \u001b[38;5;66;03m# operation\u001b[39;00m\n\u001b[1;32m     17\u001b[0m attn_score \u001b[38;5;241m=\u001b[39m query \u001b[38;5;241m@\u001b[39m key\u001b[38;5;241m.\u001b[39mtranspose(\u001b[38;5;241m-\u001b[39m\u001b[38;5;241m2\u001b[39m, \u001b[38;5;241m-\u001b[39m\u001b[38;5;241m1\u001b[39m) \u001b[38;5;241m*\u001b[39m scale_factor \u001b[38;5;66;03m# QK^T / scale\u001b[39;00m\n\u001b[0;32m---> 18\u001b[0m attn_score \u001b[38;5;241m+\u001b[39m\u001b[38;5;241m=\u001b[39m attn_bias \u001b[38;5;66;03m# masking value\u001b[39;00m\n\u001b[1;32m     19\u001b[0m attn_prob \u001b[38;5;241m=\u001b[39m torch\u001b[38;5;241m.\u001b[39msoftmax(attn_score, dim\u001b[38;5;241m=\u001b[39m\u001b[38;5;241m-\u001b[39m\u001b[38;5;241m1\u001b[39m)\n\u001b[1;32m     20\u001b[0m attn_prob \u001b[38;5;241m=\u001b[39m torch\u001b[38;5;241m.\u001b[39mdropout(attn_prob, dropout, train\u001b[38;5;241m=\u001b[39m\u001b[38;5;28;01mTrue\u001b[39;00m)\n",
      "\u001b[0;31mRuntimeError\u001b[0m: Expected all tensors to be on the same device, but found at least two devices, cuda:0 and cpu!"
     ]
    }
   ],
   "source": [
    "standard_attention(query, key, value)"
   ]
  },
  {
   "cell_type": "markdown",
   "metadata": {},
   "source": [
    "## Pytorch Attention"
   ]
  },
  {
   "cell_type": "code",
   "execution_count": 12,
   "metadata": {},
   "outputs": [],
   "source": [
    "import torch\n",
    "import math\n",
    "\n",
    "def pytorch_attention(query, key, value, mask=None, dropout=0.0, is_causal=False, scale=None):\n",
    "    trg_len, src_len = query.size(-2), key.size(-2)\n",
    "    scale_factor = 1 / math.sqrt(query.size(-1)) if scale is None else scale\n",
    "    attn_bias = torch.zeros(trg_len, src_len, dtype=query.dtype)\n",
    "\n",
    "    # lower-triangle만 계산하여 upper-triangle을 예측\n",
    "    if is_causal:\n",
    "        assert mask is None\n",
    "        # upper traingle masking\n",
    "        tmp_mask = torch.ones(trg_len, src_len, dtype=torch.bool).tril(diagonal=0)\n",
    "        attn_bias.masked_fill_(tmp_mask.logical_not())\n",
    "\n",
    "    # masking\n",
    "    if mask is not None:\n",
    "        if mask.dtype == torch.bool:\n",
    "            attn_bias.masked_fill_(mask.logical_not(), float(\"-inf\"))\n",
    "        else:\n",
    "            attn_bias += mask\n",
    "    \n",
    "    # operation\n",
    "    attn_score = query @ key.transpose(-2, -1) * scale_factor # QK^T / scale\n",
    "    attn_score += attn_bias # masking value\n",
    "    attn_prob = torch.softmax(attn_score, dim=-1)\n",
    "    attn_prob = torch.dropout(attn_prob, dropout, train=True)\n",
    "\n",
    "    return attn_prob @ value"
   ]
  },
  {
   "cell_type": "code",
   "execution_count": 14,
   "metadata": {},
   "outputs": [
    {
     "ename": "RuntimeError",
     "evalue": "Expected all tensors to be on the same device, but found at least two devices, cuda:0 and cpu!",
     "output_type": "error",
     "traceback": [
      "\u001b[0;31m---------------------------------------------------------------------------\u001b[0m",
      "\u001b[0;31mRuntimeError\u001b[0m                              Traceback (most recent call last)",
      "Cell \u001b[0;32mIn[14], line 2\u001b[0m\n\u001b[1;32m      1\u001b[0m \u001b[38;5;28;01mwith\u001b[39;00m torch\u001b[38;5;241m.\u001b[39mbackends\u001b[38;5;241m.\u001b[39mcuda\u001b[38;5;241m.\u001b[39msdp_kernel(enable_math\u001b[38;5;241m=\u001b[39m\u001b[38;5;28;01mFalse\u001b[39;00m):\n\u001b[0;32m----> 2\u001b[0m     \u001b[43mpytorch_attention\u001b[49m\u001b[43m(\u001b[49m\u001b[43mquery\u001b[49m\u001b[43m,\u001b[49m\u001b[43m \u001b[49m\u001b[43mkey\u001b[49m\u001b[43m,\u001b[49m\u001b[43m \u001b[49m\u001b[43mvalue\u001b[49m\u001b[43m)\u001b[49m\n",
      "Cell \u001b[0;32mIn[12], line 25\u001b[0m, in \u001b[0;36mpytorch_attention\u001b[0;34m(query, key, value, mask, dropout, is_causal, scale)\u001b[0m\n\u001b[1;32m     23\u001b[0m \u001b[38;5;66;03m# operation\u001b[39;00m\n\u001b[1;32m     24\u001b[0m attn_score \u001b[38;5;241m=\u001b[39m query \u001b[38;5;241m@\u001b[39m key\u001b[38;5;241m.\u001b[39mtranspose(\u001b[38;5;241m-\u001b[39m\u001b[38;5;241m2\u001b[39m, \u001b[38;5;241m-\u001b[39m\u001b[38;5;241m1\u001b[39m) \u001b[38;5;241m*\u001b[39m scale_factor \u001b[38;5;66;03m# QK^T / scale\u001b[39;00m\n\u001b[0;32m---> 25\u001b[0m attn_score \u001b[38;5;241m+\u001b[39m\u001b[38;5;241m=\u001b[39m attn_bias \u001b[38;5;66;03m# masking value\u001b[39;00m\n\u001b[1;32m     26\u001b[0m attn_prob \u001b[38;5;241m=\u001b[39m torch\u001b[38;5;241m.\u001b[39msoftmax(attn_score, dim\u001b[38;5;241m=\u001b[39m\u001b[38;5;241m-\u001b[39m\u001b[38;5;241m1\u001b[39m)\n\u001b[1;32m     27\u001b[0m attn_prob \u001b[38;5;241m=\u001b[39m torch\u001b[38;5;241m.\u001b[39mdropout(attn_prob, dropout, train\u001b[38;5;241m=\u001b[39m\u001b[38;5;28;01mTrue\u001b[39;00m)\n",
      "\u001b[0;31mRuntimeError\u001b[0m: Expected all tensors to be on the same device, but found at least two devices, cuda:0 and cpu!"
     ]
    }
   ],
   "source": [
    "with torch.backends.cuda.sdp_kernel(enable_math=False):\n",
    "    pytorch_attention(query, key, value)"
   ]
  }
 ],
 "metadata": {
  "kernelspec": {
   "display_name": "Python 3",
   "language": "python",
   "name": "python3"
  },
  "language_info": {
   "codemirror_mode": {
    "name": "ipython",
    "version": 3
   },
   "file_extension": ".py",
   "mimetype": "text/x-python",
   "name": "python",
   "nbconvert_exporter": "python",
   "pygments_lexer": "ipython3",
   "version": "3.8.10"
  }
 },
 "nbformat": 4,
 "nbformat_minor": 2
}
