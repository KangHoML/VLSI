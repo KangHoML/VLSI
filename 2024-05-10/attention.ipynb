{
 "cells": [
  {
   "cell_type": "markdown",
   "metadata": {},
   "source": [
    "# Efficient Attention Mechanism\n",
    "\n",
    "- Input\n",
    "    - query, key, value : (batch_size, num_heads, seq_len, embed_dim)\n",
    "\n",
    "- Output\n",
    "    - attention value : (batch_size, seq_len, embed_dim)"
   ]
  },
  {
   "cell_type": "markdown",
   "metadata": {},
   "source": [
    "## Input"
   ]
  },
  {
   "cell_type": "code",
   "execution_count": 32,
   "metadata": {},
   "outputs": [
    {
     "name": "stdout",
     "output_type": "stream",
     "text": [
      "(torch.Size([32, 8, 512, 64]), torch.Size([32, 8, 512, 64]), torch.Size([32, 8, 512, 64]))\n"
     ]
    }
   ],
   "source": [
    "import torch\n",
    "\n",
    "SEQ = 512\n",
    "query = torch.rand(32, 8, SEQ, 64, dtype=torch.float16, device=\"cuda\")\n",
    "key = torch.rand(32, 8, SEQ, 64, dtype=torch.float16, device=\"cuda\")\n",
    "value = torch.rand(32, 8, SEQ, 64, dtype=torch.float16, device=\"cuda\")\n",
    "\n",
    "print(f\"{query.shape, key.shape, value.shape}\")"
   ]
  },
  {
   "cell_type": "markdown",
   "metadata": {},
   "source": [
    "## Standard Attention"
   ]
  },
  {
   "cell_type": "code",
   "execution_count": 33,
   "metadata": {},
   "outputs": [],
   "source": [
    "import torch.nn as nn\n",
    "import math\n",
    "\n",
    "class StandardAttention(nn.Module):\n",
    "    def __init__(self, dropout, device):\n",
    "        super().__init__()\n",
    "        self.device = device\n",
    "        self.dropout = nn.Dropout(dropout)\n",
    "        self.softmax = nn.Softmax(dim=-1)\n",
    "        \n",
    "    def forward(self, query, key, value, mask=None):\n",
    "        trg_len, src_len = query.size(-2), key.size(-2)\n",
    "        scale_factor = 1 / math.sqrt(key.size(-1))\n",
    "        attn_bias = torch.zeros(trg_len, src_len, dtype=query.dtype, device=self.device)\n",
    "\n",
    "        # masking\n",
    "        if mask is not None:\n",
    "            mask = mask.to(self.device)\n",
    "            if mask.dtype == torch.bool:\n",
    "                attn_bias.masked_fill_(mask.logical_not(), float(\"-inf\"))\n",
    "            else:\n",
    "                attn_bias += mask\n",
    "\n",
    "        # operation\n",
    "        attn_score = query @ key.transpose(-2, -1) * scale_factor # QK^T / scale\n",
    "        attn_score += attn_bias # masking value\n",
    "        attn_prob = self.softmax(attn_score)\n",
    "        attn_prob = self.dropout(attn_prob)\n",
    "\n",
    "        return attn_prob @ value"
   ]
  },
  {
   "cell_type": "code",
   "execution_count": 34,
   "metadata": {},
   "outputs": [
    {
     "name": "stdout",
     "output_type": "stream",
     "text": [
      "torch.Size([32, 8, 512, 64])\n"
     ]
    }
   ],
   "source": [
    "attention = StandardAttention(dropout=0.0, device=\"cuda\")\n",
    "attn = attention(query, key, value)\n",
    "\n",
    "print(f\"{attn.shape}\")"
   ]
  },
  {
   "cell_type": "markdown",
   "metadata": {},
   "source": [
    "## Compare various Attention mechanisms"
   ]
  },
  {
   "cell_type": "code",
   "execution_count": 46,
   "metadata": {},
   "outputs": [],
   "source": [
    "import torch.utils.benchmark as benchmark\n",
    "import torch.nn.functional as F\n",
    "\n",
    "def benchmark_torch_function_in_microseconds(f, *args, **kwargs):\n",
    "    t0 = benchmark.Timer(\n",
    "        stmt=\"f(*args, **kwargs)\", globals={\"args\": args, \"kwargs\": kwargs, \"f\": f}\n",
    "    )\n",
    "    \n",
    "    return t0.blocked_autorange().mean * 1e6\n",
    "\n",
    "def timer(query, key, value, is_causal=False):\n",
    "    return benchmark_torch_function_in_microseconds(F.scaled_dot_product_attention, query, key, value, is_causal=is_causal)"
   ]
  },
  {
   "cell_type": "code",
   "execution_count": 51,
   "metadata": {},
   "outputs": [
    {
     "name": "stdout",
     "output_type": "stream",
     "text": [
      "Standard\n",
      "    time:  294525.718ms\n",
      "    shape: torch.Size([32, 32, 1024, 32])\n",
      "Causal\n",
      "    time:  431429.127ms\n",
      "    shape: torch.Size([32, 32, 1024, 32])\n",
      "Flash\n",
      "    True\n",
      "    time:  290587.018ms\n",
      "    shape: torch.Size([32, 32, 1024, 32])\n",
      "Memory Efficient\n",
      "    True\n",
      "    time:  2225368.515ms\n",
      "    shape: torch.Size([32, 32, 1024, 32])\n"
     ]
    }
   ],
   "source": [
    "import torch\n",
    "import torch.nn.functional as F\n",
    "\n",
    "with torch.backends.cuda.sdp_kernel(enable_flash=False, enable_mem_efficient=False):\n",
    "    attn = F.scaled_dot_product_attention(query, key, value)\n",
    "    print(f\"Standard\")\n",
    "    print(f\"    time: {timer(query, key, value): .3f}ms\")\n",
    "    print(f\"    shape: {attn.shape}\")\n",
    "    \n",
    "with torch.backends.cuda.sdp_kernel(enable_flash=False, enable_mem_efficient=False):\n",
    "    attn = F.scaled_dot_product_attention(query, key, value, is_causal=True)\n",
    "    print(f\"Causal\")\n",
    "    print(f\"    time: {timer(query, key, value, is_causal=True): .3f}ms\")\n",
    "    print(f\"    shape: {attn.shape}\")\n",
    "\n",
    "# 지원 X\n",
    "with torch.backends.cuda.sdp_kernel(enable_flash=True, enable_mem_efficient=False):\n",
    "    attn = F.scaled_dot_product_attention(query, key, value, is_causal=True)\n",
    "    print(f\"Flash\")\n",
    "    print(f\"    time: {timer(query, key, value): .3f}ms\")\n",
    "    print(f\"    shape: {attn.shape}\")\n",
    "\n",
    "# 지원 X\n",
    "with torch.backends.cuda.sdp_kernel(enable_flash=False, enable_mem_efficient=True):\n",
    "    attn = F.scaled_dot_product_attention(query, key, value)\n",
    "    print(f\"Memory Efficient\")\n",
    "    print(f\"    time: {timer(query, key, value): .3f}ms\")\n",
    "    print(f\"    shape: {attn.shape}\")"
   ]
  },
  {
   "cell_type": "code",
   "execution_count": null,
   "metadata": {},
   "outputs": [],
   "source": []
  }
 ],
 "metadata": {
  "kernelspec": {
   "display_name": "Python 3",
   "language": "python",
   "name": "python3"
  },
  "language_info": {
   "codemirror_mode": {
    "name": "ipython",
    "version": 3
   },
   "file_extension": ".py",
   "mimetype": "text/x-python",
   "name": "python",
   "nbconvert_exporter": "python",
   "pygments_lexer": "ipython3",
   "version": "3.8.10"
  }
 },
 "nbformat": 4,
 "nbformat_minor": 2
}
